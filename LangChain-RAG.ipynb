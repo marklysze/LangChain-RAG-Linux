{
 "cells": [
  {
   "cell_type": "markdown",
   "metadata": {},
   "source": []
  },
  {
   "cell_type": "markdown",
   "metadata": {},
   "source": [
    "### LangChain local LLM RAG example\n",
    "Utilising LangChain v0.1, Ollama for LLM\n",
    "\n",
    "#### Models tested:\n",
    "- Llama 2\n",
    "- Mistral 7B\n",
    "- Mixtral 8x7B\n",
    "- Neural Chat 7B\n",
    "- Orca 2\n",
    "- Phi-2\n",
    "- Solar 10.7B\n",
    "- Yi 34B\n",
    "\n",
    "\n",
    "This notebook demonstrates the use of LangChain for Retrieval Augmented Generation in Linux with Nvidia's CUDA. LLMs are run using Ollama.\n",
    "\n",
    "See the [README.md](README.md) file for help on how to setup your environment to run this."
   ]
  },
  {
   "cell_type": "code",
   "execution_count": 1,
   "metadata": {},
   "outputs": [],
   "source": [
    "# Select your model here, put the name of the model in the ollama_model_name variable\n",
    "# Ensure you have pulled them or run them so Ollama has downloaded them and can load them (which it will do automatically)\n",
    "\n",
    "# Ollama is required, installation: $ curl https://ollama.ai/install.sh | sh\n",
    "# Models need to be running in Ollama for LangChain to use them, e.g. $ ollama run mistral:7b-instruct-q6_K\n",
    "\n",
    "ollama_model_name = \"orca2:13b-q5_K_S\"\n",
    "# \"llama2:7b-chat-q6_K\"\n",
    "# \"mistral:7b-instruct-q6_K\"\n",
    "# \"mixtral:8x7b-instruct-v0.1-q4_K_M\"\n",
    "# \"neural-chat:7b-v3.3-q6_K\"\n",
    "# \"orca2:13b-q5_K_S\"\n",
    "# \"phi\" or try \"phi:chat\"\n",
    "# \"solar:10.7b-instruct-v1-q5_K_M\"\n",
    "# \"yi:34b-chat-q4_K_M\""
   ]
  },
  {
   "cell_type": "code",
   "execution_count": 2,
   "metadata": {},
   "outputs": [],
   "source": [
    "# Load the LLM with Ollama, setting the temperature low so it's not too creative\n",
    "\n",
    "from langchain_community.llms import Ollama\n",
    "llm = Ollama(model=ollama_model_name, temperature=0.1)"
   ]
  },
  {
   "cell_type": "code",
   "execution_count": 3,
   "metadata": {},
   "outputs": [
    {
     "data": {
      "text/plain": [
       "'The sky appears blue because of a process called Rayleigh scattering, which scatters sunlight in all directions and preferentially scatteres shorter wavelengths of light, such as blue and violet, more than longer wavelengths, such as red and orange. The human eye is more sensitive to blue light than violet light, so we perceive the sky as blue. However, during sunrise and sunset, when the sun is lower in the sky, the light has to travel through more of the atmosphere, which causes more scattering and longer wavelengths to dominate, resulting in red and orange hues.'"
      ]
     },
     "execution_count": 3,
     "metadata": {},
     "output_type": "execute_result"
    }
   ],
   "source": [
    "# Quick test of the LLM with a general question before we start doing RAG\n",
    "llm.invoke(\"why is the sky blue?\")"
   ]
  },
  {
   "cell_type": "code",
   "execution_count": 4,
   "metadata": {},
   "outputs": [],
   "source": [
    "# Embeddings will be based on the Ollama model\n",
    "\n",
    "from langchain_community.embeddings import OllamaEmbeddings\n",
    "\n",
    "embeddings = OllamaEmbeddings(model=ollama_model_name)"
   ]
  },
  {
   "cell_type": "code",
   "execution_count": 5,
   "metadata": {},
   "outputs": [],
   "source": [
    "from langchain_community.document_loaders import DirectoryLoader\n",
    "\n",
    "loader = DirectoryLoader('Data', glob=\"**/*.docx\")"
   ]
  },
  {
   "cell_type": "code",
   "execution_count": 6,
   "metadata": {},
   "outputs": [],
   "source": [
    "# Load documents\n",
    "\n",
    "docs = loader.load()"
   ]
  },
  {
   "cell_type": "code",
   "execution_count": 7,
   "metadata": {},
   "outputs": [
    {
     "data": {
      "text/plain": [
       "3"
      ]
     },
     "execution_count": 7,
     "metadata": {},
     "output_type": "execute_result"
    }
   ],
   "source": [
    "# Ensure we have the right number of Word documents loaded\n",
    "\n",
    "len(docs)"
   ]
  },
  {
   "cell_type": "code",
   "execution_count": 8,
   "metadata": {},
   "outputs": [],
   "source": [
    "# Split them up into chunks using a Text Splitter\n",
    "\n",
    "from langchain.text_splitter import RecursiveCharacterTextSplitter\n",
    "\n",
    "text_splitter = RecursiveCharacterTextSplitter()\n",
    "documents = text_splitter.split_documents(docs)"
   ]
  },
  {
   "cell_type": "code",
   "execution_count": 9,
   "metadata": {},
   "outputs": [],
   "source": [
    "# Create the embeddings from the chunks\n",
    "\n",
    "from langchain_community.vectorstores import FAISS\n",
    "\n",
    "vector = FAISS.from_documents(documents, embeddings)"
   ]
  },
  {
   "cell_type": "code",
   "execution_count": 10,
   "metadata": {},
   "outputs": [],
   "source": [
    "# Prepare the prompt and then the chain\n",
    "\n",
    "from langchain.chains.combine_documents import create_stuff_documents_chain\n",
    "from langchain_core.prompts import ChatPromptTemplate\n",
    "\n",
    "if ollama_model_name == \"phi\":\n",
    "    # Phi-2 prompt is less flexible\n",
    "    prompt_template = \"\"\"Instruct: With this context\\n\\n{context}\\n\\nQuestion: {input}\\nOutput:\"\"\"\n",
    "else:\n",
    "    prompt_template = \"\"\"Answer the following question based only on the provided context:\n",
    "\n",
    "    <context>\n",
    "    {context}\n",
    "    </context>\n",
    "\n",
    "    Question: {input}\"\"\"\n",
    "\n",
    "prompt = ChatPromptTemplate.from_template(prompt_template)\n",
    "document_chain = create_stuff_documents_chain(llm, prompt)"
   ]
  },
  {
   "cell_type": "code",
   "execution_count": 11,
   "metadata": {},
   "outputs": [
    {
     "data": {
      "text/plain": [
       "RunnableBinding(bound=RunnableBinding(bound=RunnableAssign(mapper={\n",
       "  context: RunnableLambda(format_docs)\n",
       "}), config={'run_name': 'format_inputs'})\n",
       "| ChatPromptTemplate(input_variables=['context', 'input'], messages=[HumanMessagePromptTemplate(prompt=PromptTemplate(input_variables=['context', 'input'], template='Answer the following question based only on the provided context:\\n\\n    <context>\\n    {context}\\n    </context>\\n\\n    Question: {input}'))])\n",
       "| Ollama(model='orca2:13b-q5_K_S', temperature=0.1)\n",
       "| StrOutputParser(), config={'run_name': 'stuff_documents_chain'})"
      ]
     },
     "execution_count": 11,
     "metadata": {},
     "output_type": "execute_result"
    }
   ],
   "source": [
    "# The LangChain chain\n",
    "document_chain"
   ]
  },
  {
   "cell_type": "code",
   "execution_count": 12,
   "metadata": {},
   "outputs": [],
   "source": [
    "# Create the retriever and LangChain retriever chain\n",
    "\n",
    "from langchain.chains import create_retrieval_chain\n",
    "\n",
    "retriever = vector.as_retriever()\n",
    "retrieval_chain = create_retrieval_chain(retriever, document_chain)"
   ]
  },
  {
   "cell_type": "code",
   "execution_count": 13,
   "metadata": {},
   "outputs": [
    {
     "data": {
      "text/plain": [
       "RunnableBinding(bound=RunnableAssign(mapper={\n",
       "  context: RunnableBinding(bound=RunnableLambda(lambda x: x['input'])\n",
       "           | VectorStoreRetriever(tags=['FAISS', 'OllamaEmbeddings'], vectorstore=<langchain_community.vectorstores.faiss.FAISS object at 0x7f8fb18310f0>), config={'run_name': 'retrieve_documents'})\n",
       "})\n",
       "| RunnableAssign(mapper={\n",
       "    answer: RunnableBinding(bound=RunnableBinding(bound=RunnableAssign(mapper={\n",
       "              context: RunnableLambda(format_docs)\n",
       "            }), config={'run_name': 'format_inputs'})\n",
       "            | ChatPromptTemplate(input_variables=['context', 'input'], messages=[HumanMessagePromptTemplate(prompt=PromptTemplate(input_variables=['context', 'input'], template='Answer the following question based only on the provided context:\\n\\n    <context>\\n    {context}\\n    </context>\\n\\n    Question: {input}'))])\n",
       "            | Ollama(model='orca2:13b-q5_K_S', temperature=0.1)\n",
       "            | StrOutputParser(), config={'run_name': 'stuff_documents_chain'})\n",
       "  }), config={'run_name': 'retrieval_chain'})"
      ]
     },
     "execution_count": 13,
     "metadata": {},
     "output_type": "execute_result"
    }
   ],
   "source": [
    "# Chain now incorporates the retriever\n",
    "retrieval_chain"
   ]
  },
  {
   "cell_type": "code",
   "execution_count": 14,
   "metadata": {},
   "outputs": [],
   "source": [
    "# Here are our test questions\n",
    "\n",
    "TestQuestions = [\n",
    "    \"Summarise the story for me\",\n",
    "    \"Who was the main protagonist?\",\n",
    "    \"Did they have any children? If so, what were their names?\",\n",
    "    \"Did anything eventful happen?\",\n",
    "    \"Who are the main characters?\",\n",
    "    \"What do you think happens next in the story?\"\n",
    "]"
   ]
  },
  {
   "cell_type": "code",
   "execution_count": 15,
   "metadata": {},
   "outputs": [
    {
     "name": "stdout",
     "output_type": "stream",
     "text": [
      "\n",
      "1/6: Summarise the story for me\n",
      "\n",
      "2/6: Who was the main protagonist?\n",
      "\n",
      "3/6: Did they have any children? If so, what were their names?\n",
      "\n",
      "4/6: Did anything eventful happen?\n",
      "\n",
      "5/6: Who are the main characters?\n",
      "\n",
      "6/6: What do you think happens next in the story?\n"
     ]
    }
   ],
   "source": [
    "qa_pairs = []\n",
    "\n",
    "for index, question in enumerate(TestQuestions, start=1):\n",
    "    question = question.strip() # Clean up\n",
    "\n",
    "    print(f\"\\n{index}/{len(TestQuestions)}: {question}\")\n",
    "\n",
    "    response = retrieval_chain.invoke({\"input\": question})\n",
    "\n",
    "    qa_pairs.append((question.strip(), response[\"answer\"])) # Add to our output array\n",
    "\n",
    "    # Uncomment the following line if you want to test just the first question\n",
    "    # break "
   ]
  },
  {
   "cell_type": "code",
   "execution_count": 16,
   "metadata": {},
   "outputs": [
    {
     "name": "stdout",
     "output_type": "stream",
     "text": [
      "1/6 Summarise the story for me\n",
      "\n",
      "Key points:\n",
      "- Thundertooth is a talking dinosaur who travels through time and ends up in a futuristic city\n",
      "- He meets Mayor Grace, who helps him find food without harming humans\n",
      "- He starts a toy factory with his family that produces magical widgets\n",
      "- They face a crisis when a meteor threatens the city, but they use their talents to divert it\n",
      "- They become heroes and symbols of unity between dinosaurs and humans\n",
      "\n",
      "Summary:\n",
      "Thundertooth is a dinosaur who can talk and travels through time. He arrives in a futuristic city where he meets Mayor Grace, who helps him find food that does not harm anyone. He starts a toy factory with his family that makes amazing widgets that delight the people. When a meteor is about to hit the city, they use their abilities to save it and become heroes. They show that dinosaurs and humans can work together and coexist.\n",
      "\n",
      "--------\n",
      "\n",
      "2/6 Who was the main protagonist?\n",
      "\n",
      "To answer the question, we need to identify the main character of the story based on the context given. We can use some clues to help us, such as:\n",
      "\n",
      "- The main character is usually introduced in the first paragraph or chapter of a story, and often has a name that is repeated throughout the text.\n",
      "- The main character is involved in the central conflict or problem of the story, and often faces challenges or changes as a result of their actions or experiences.\n",
      "- The main character is usually the one who undergoes the most development or growth, and whose perspective or point of view we follow the most.\n",
      "\n",
      "Using these clues, we can scan the context and look for potential candidates for the main protagonist. We can also eliminate some characters based on their roles and appearances in the story. For example:\n",
      "\n",
      "- The meteor is not a character, but an antagonistic force that threatens the city and the family. It does not have a name or a personality, and it does not interact with any of the other characters.\n",
      "- Mayor Grace is a supporting character, who helps Thundertooth adapt to the city and provides him with opportunities and resources. She is not involved in the central conflict of the story, which is about Thundertooth's journey from being a hungry dinosaur to becoming a beloved figure.\n",
      "- The humans and dinosaurs of the futuristic city are minor characters, who serve as the backdrop for Thundertooth's adventures. They do not have much individuality or agency, and they mostly react to Thundertooth's presence and actions.\n",
      "- The members of Thundertooth's family are also supporting characters, who assist him in various situations and share his experiences. They each have their own talents and personalities, but they are not the main focus of the story.\n",
      "\n",
      "Therefore, based on these criteria, we can conclude that the main protagonist of the story is Thundertooth himself. He is introduced in the first paragraph, and his name is repeated throughout the text. He is involved in the central conflict of the story, which is about his journey from being a hungry dinosaur to becoming a beloved figure. He faces challenges and changes as he adapts to the city and its inhabitants, and he undergoes development and growth as he learns to communicate, cooperate, and create with them. His perspective or point of view is also the most prominent in the story, as he narrates his own tale.\n",
      "\n",
      "### Final answer: Thundertooth is the main protagonist.\n",
      "\n",
      "--------\n",
      "\n",
      "3/6 Did they have any children? If so, what were their names?\n",
      "\n",
      "To answer this question based on the provided context, we can follow these steps:\n",
      "\n",
      "- Locate the part of the text that mentions Thundertooth's family and children. This is in the second paragraph of the first story, which begins with \"Thundertooth's life took a heartwarming turn.\"\n",
      "- Identify the names of Thundertooth's children and their respective talents or characteristics. The text lists four children: Lumina, Echo, Sapphire, and Ignis. Lumina inherited her mother's intelligence and her father's sense of wonder, and had the ability to generate light at will. Echo had a gift for mimicry and could replicate any sound or voice he heard. Sapphire possessed a unique talent for calming and healing, and had scales that shimmered like precious gems. Ignis had fiery red scales and the power to control small flames.\n",
      "- Summarize the answer in a brief sentence, using the information from the text.\n",
      "\n",
      "### Final answer: Yes, they had four children: Lumina, Echo, Sapphire, and Ignis, each with unique talents or characteristics.\n",
      "\n",
      "--------\n",
      "\n",
      "4/6 Did anything eventful happen?\n",
      "\n",
      "The question is vague and open-ended, so there is no definitive answer. However, based on the context provided, one possible way to approach the question is:\n",
      "\n",
      "- Identify the main events or themes in the passage, such as Thundertooth's journey through time, his arrival in the futuristic city, his family life, and his role in saving the city from a meteor threat.\n",
      "- Evaluate each event or theme based on its significance, impact, or interest for the reader or the characters involved. For example, one might argue that Thundertooth's journey through time was eventful because it exposed him to a new world and challenged his values, while his family life was less eventful because it focused on their daily routines and personal growth.\n",
      "- Summarize the main points of the evaluation and provide a brief conclusion based on the question. For example, one might say that yes, many eventful things happened in the passage, such as Thundertooth's time travel, his integration into the futuristic city, his marriage and children, and his heroic role in saving the city from a meteor. Alternatively, one might say that no, not much eventful happened in the passage, except for Thundertooth's initial arrival in the city and his final act of bravery.\n",
      "\n",
      "### Final answer: Yes, many eventful things happened in the passage.\n",
      "\n",
      "--------\n",
      "\n",
      "5/6 Who are the main characters?\n",
      "\n",
      "To answer this question, we need to identify the names of the characters that appear in the context and their roles in the story. We can use the following steps:\n",
      "\n",
      "- Scan the context for proper nouns that refer to people or creatures.\n",
      "- Check if they are mentioned more than once, indicating that they have some significance in the story.\n",
      "- Determine their relationship to each other and their role in the plot.\n",
      "\n",
      "Using these steps, we can find the following main characters:\n",
      "\n",
      "- Thundertooth: A talking dinosaur who travels through time and becomes a hero in the futuristic city. He is the protagonist of the story and the father of four children.\n",
      "- Seraphina: A kind and intelligent dinosaur who becomes Thundertooth's mate and the mother of his children. She is supportive and loving, and helps Thundertooth raise their family.\n",
      "- Lumina: The eldest daughter of Thundertooth and Seraphina, who inherits her mother's intelligence and her father's sense of wonder. She is a tech-savvy inventor who creates amazing widgets for the toy factory.\n",
      "- Echo: The second son of Thundertooth and Seraphina, who has a gift for mimicry. He can perfectly replicate any sound or voice he hears, and brings joy to the city with his entertainment skills.\n",
      "- Sapphire: The third child of Thundertooth and Seraphina, who has scales that shimmer like precious gems. She has a talent for calming and healing, and comforts those in need with her gentle touch.\n",
      "- Ignis: The youngest son of Thundertooth and Seraphina, who has fiery red scales that hint at his ability to control flames. He creates mesmerizing light shows for the city's festivals and celebrations.\n",
      "- Mayor Grace: The charismatic and forward-thinking leader of the futuristic city, who befriends Thundertooth and helps him adapt to his new environment. She is impressed by Thundertooth's abilities and invites him to work with the city's innovators.\n",
      "\n",
      "### Final answer: The main characters are Thundertooth, Seraphina, Lumina, Echo, Sapphire, Ignis, and Mayor Grace.\n",
      "\n",
      "--------\n",
      "\n",
      "6/6 What do you think happens next in the story?\n",
      "\n",
      "There is no definitive answer to what happens next in the story, as it depends on the author's imagination and creative vision. However, based on the context provided, some possible scenarios are:\n",
      "\n",
      "- Thundertooth and his family continue to explore new ways to use their talents for the benefit of the city and its inhabitants, becoming more involved in various projects and initiatives that promote innovation and harmony.\n",
      "- Thundertooth and Seraphina decide to start a new family, expanding their brood of talented children and passing on their legacy to future generations.\n",
      "- Thundertooth and his family face new challenges and adventures, either within the city or beyond its borders, encountering other dinosaurs, humans, and creatures along the way.\n",
      "- Thundertooth and his family enjoy a peaceful and prosperous life in the city, becoming beloved figures and role models for both children and adults alike, while also preserving their connection to their prehistoric roots and their original time period.\n",
      "\n",
      "### Final answer: There is no definitive answer to what happens next in the story, but some possible scenarios are that Thundertooth and his family continue to use their talents for the benefit of the city, start a new family, face new challenges and adventures, or enjoy a peaceful and prosperous life.\n",
      "\n",
      "--------\n",
      "\n"
     ]
    }
   ],
   "source": [
    "# Print out the questions and answers\n",
    "\n",
    "for index, (question, answer) in enumerate(qa_pairs, start=1):\n",
    "    print(f\"{index}/{len(qa_pairs)} {question}\\n\\n{answer}\\n\\n--------\\n\")"
   ]
  }
 ],
 "metadata": {
  "kernelspec": {
   "display_name": "LangChainRAGLinux",
   "language": "python",
   "name": "python3"
  },
  "language_info": {
   "codemirror_mode": {
    "name": "ipython",
    "version": 3
   },
   "file_extension": ".py",
   "mimetype": "text/x-python",
   "name": "python",
   "nbconvert_exporter": "python",
   "pygments_lexer": "ipython3",
   "version": "3.10.13"
  }
 },
 "nbformat": 4,
 "nbformat_minor": 2
}
